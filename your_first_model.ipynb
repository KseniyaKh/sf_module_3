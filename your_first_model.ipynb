{
 "cells": [
  {
   "cell_type": "markdown",
   "metadata": {},
   "source": [
    "# Библиотеки"
   ]
  },
  {
   "cell_type": "code",
   "execution_count": 2907,
   "metadata": {},
   "outputs": [],
   "source": [
    "import pandas as pd\n",
    "import warnings\n",
    "import numpy as np\n",
    "import seaborn as sns\n",
    "import matplotlib.pyplot as plt\n",
    "from sklearn.preprocessing import StandardScaler\n",
    "import ast\n",
    "import re\n",
    "from datetime import datetime\n",
    "from collections import Counter"
   ]
  },
  {
   "cell_type": "markdown",
   "metadata": {},
   "source": [
    "# Функции"
   ]
  },
  {
   "cell_type": "code",
   "execution_count": 2908,
   "metadata": {},
   "outputs": [],
   "source": [
    "\"Определяем кол-во пропущенных значений\"\n",
    "def missing_values(df):\n",
    "        mis_val = df.isnull().sum()\n",
    "        mis_val_percent = 100 * mis_val / len(df)\n",
    "        mis_val_table = pd.concat([mis_val, mis_val_percent], axis=1)\n",
    "        mis_val_table_ren_columns = mis_val_table.rename(\n",
    "        columns = {0 : 'Missing Values', 1 : '% of Total Values'})\n",
    "        mis_val_table_ren_columns = mis_val_table_ren_columns[\n",
    "            mis_val_table_ren_columns.iloc[:,1] != 0].sort_values(\n",
    "        '% of Total Values', ascending=False).round(1)\n",
    "        print (\"В таблице \" + str(df.shape[1]) + \" столбцов.\\n\"      \n",
    "            \"из них \" + str(mis_val_table_ren_columns.shape[0]) +\n",
    "              \" столбца имеют пропущенные значения.\")\n",
    "        return mis_val_table_ren_columns"
   ]
  },
  {
   "cell_type": "code",
   "execution_count": 2909,
   "metadata": {},
   "outputs": [],
   "source": [
    "def get_boxplot(column):\n",
    "    fig, ax = plt.subplots(figsize = (14, 4))\n",
    "    sns.boxplot(x=column, y='Rating', \n",
    "                data=df.loc[df.loc[:, column].isin(df.loc[:, column].value_counts().index[:10])],\n",
    "               ax=ax)\n",
    "    plt.xticks(rotation=45)\n",
    "    ax.set_title('Boxplot for ' + column)\n",
    "    plt.show()"
   ]
  },
  {
   "cell_type": "code",
   "execution_count": 2910,
   "metadata": {},
   "outputs": [],
   "source": [
    "def get_first_substring(x):\n",
    "    if (x!=None and x!=np.nan):\n",
    "        return x.split(',')[0]"
   ]
  },
  {
   "cell_type": "code",
   "execution_count": 2911,
   "metadata": {},
   "outputs": [],
   "source": [
    "def find_item(cell):\n",
    "    if item in cell:\n",
    "        return 1\n",
    "    return 0"
   ]
  },
  {
   "cell_type": "markdown",
   "metadata": {},
   "source": [
    "# Загрузка Pandas и очистка данных"
   ]
  },
  {
   "cell_type": "markdown",
   "metadata": {},
   "source": [
    "### Датасет состоит из десяти столбцов, содержащих следующую информацию:\n",
    "\n",
    "* **Restaurant_id** — идентификационный номер ресторана / сети ресторанов;\n",
    "* **City** — город, в котором находится ресторан;\n",
    "* **Cuisine Style** — кухня или кухни, к которым можно отнести блюда, предлагаемые в ресторане;\n",
    "* **Ranking** — место, которое занимает данный ресторан среди всех ресторанов своего города;\n",
    "* **Rating** — рейтинг ресторана по данным TripAdvisor (именно это значение должна будет предсказывать модель);\n",
    "* **Price Range** — диапазон цен в ресторане;\n",
    "* **Number of Reviews** — количество отзывов о ресторане;\n",
    "* *** **Reviews** — данные о двух отзывах, которые отображаются на сайте ресторана;\n",
    "* **URL_TA** — URL страницы ресторана на TripAdvosor;\n",
    "* **ID_TA** — идентификатор ресторана в базе данных TripAdvisor."
   ]
  },
  {
   "cell_type": "code",
   "execution_count": 2912,
   "metadata": {
    "scrolled": true
   },
   "outputs": [],
   "source": [
    "warnings.filterwarnings('ignore') # запретим оповещения\n",
    "\n",
    "df = pd.read_csv('main_task.csv', encoding = 'UTF-8')\n",
    "towns_date = pd.read_csv('world-cities_csv.csv', delimiter = ';', encoding = 'UTF-8')\n",
    "\n",
    "# добавим в таблицу информацию о странах и населении городов, рестораны которых учитываются"
   ]
  },
  {
   "cell_type": "code",
   "execution_count": 2913,
   "metadata": {},
   "outputs": [],
   "source": [
    "# изменим название колонки для удобства merge\n",
    "\n",
    "towns_date = towns_date.rename(columns={'name': 'City'})"
   ]
  },
  {
   "cell_type": "code",
   "execution_count": 2914,
   "metadata": {},
   "outputs": [],
   "source": [
    "# объеденим таблицы\n",
    "\n",
    "df = pd.merge(df, towns_date, on='City', how='left')"
   ]
  },
  {
   "cell_type": "code",
   "execution_count": 2915,
   "metadata": {},
   "outputs": [
    {
     "data": {
      "text/html": [
       "<div>\n",
       "<style scoped>\n",
       "    .dataframe tbody tr th:only-of-type {\n",
       "        vertical-align: middle;\n",
       "    }\n",
       "\n",
       "    .dataframe tbody tr th {\n",
       "        vertical-align: top;\n",
       "    }\n",
       "\n",
       "    .dataframe thead th {\n",
       "        text-align: right;\n",
       "    }\n",
       "</style>\n",
       "<table border=\"1\" class=\"dataframe\">\n",
       "  <thead>\n",
       "    <tr style=\"text-align: right;\">\n",
       "      <th></th>\n",
       "      <th>Restaurant_id</th>\n",
       "      <th>City</th>\n",
       "      <th>Cuisine Style</th>\n",
       "      <th>Ranking</th>\n",
       "      <th>Rating</th>\n",
       "      <th>Price Range</th>\n",
       "      <th>Number of Reviews</th>\n",
       "      <th>Reviews</th>\n",
       "      <th>URL_TA</th>\n",
       "      <th>ID_TA</th>\n",
       "      <th>country</th>\n",
       "      <th>geonameid</th>\n",
       "    </tr>\n",
       "  </thead>\n",
       "  <tbody>\n",
       "    <tr>\n",
       "      <th>0</th>\n",
       "      <td>id_5569</td>\n",
       "      <td>Paris</td>\n",
       "      <td>['European', 'French', 'International']</td>\n",
       "      <td>5570.0</td>\n",
       "      <td>3.5</td>\n",
       "      <td>$$ - $$$</td>\n",
       "      <td>194.0</td>\n",
       "      <td>[['Good food at your doorstep', 'A good hotel ...</td>\n",
       "      <td>/Restaurant_Review-g187147-d1912643-Reviews-R_...</td>\n",
       "      <td>d1912643</td>\n",
       "      <td>France</td>\n",
       "      <td>2988507</td>\n",
       "    </tr>\n",
       "    <tr>\n",
       "      <th>1</th>\n",
       "      <td>id_1535</td>\n",
       "      <td>Stockholm</td>\n",
       "      <td>NaN</td>\n",
       "      <td>1537.0</td>\n",
       "      <td>4.0</td>\n",
       "      <td>NaN</td>\n",
       "      <td>10.0</td>\n",
       "      <td>[['Unique cuisine', 'Delicious Nepalese food']...</td>\n",
       "      <td>/Restaurant_Review-g189852-d7992032-Reviews-Bu...</td>\n",
       "      <td>d7992032</td>\n",
       "      <td>Sweden</td>\n",
       "      <td>2673730</td>\n",
       "    </tr>\n",
       "    <tr>\n",
       "      <th>2</th>\n",
       "      <td>id_352</td>\n",
       "      <td>London</td>\n",
       "      <td>['Japanese', 'Sushi', 'Asian', 'Grill', 'Veget...</td>\n",
       "      <td>353.0</td>\n",
       "      <td>4.5</td>\n",
       "      <td>$$$$</td>\n",
       "      <td>688.0</td>\n",
       "      <td>[['Catch up with friends', 'Not exceptional'],...</td>\n",
       "      <td>/Restaurant_Review-g186338-d8632781-Reviews-RO...</td>\n",
       "      <td>d8632781</td>\n",
       "      <td>Canada</td>\n",
       "      <td>6058560</td>\n",
       "    </tr>\n",
       "    <tr>\n",
       "      <th>3</th>\n",
       "      <td>id_352</td>\n",
       "      <td>London</td>\n",
       "      <td>['Japanese', 'Sushi', 'Asian', 'Grill', 'Veget...</td>\n",
       "      <td>353.0</td>\n",
       "      <td>4.5</td>\n",
       "      <td>$$$$</td>\n",
       "      <td>688.0</td>\n",
       "      <td>[['Catch up with friends', 'Not exceptional'],...</td>\n",
       "      <td>/Restaurant_Review-g186338-d8632781-Reviews-RO...</td>\n",
       "      <td>d8632781</td>\n",
       "      <td>United Kingdom</td>\n",
       "      <td>2643743</td>\n",
       "    </tr>\n",
       "    <tr>\n",
       "      <th>4</th>\n",
       "      <td>id_3456</td>\n",
       "      <td>Berlin</td>\n",
       "      <td>NaN</td>\n",
       "      <td>3458.0</td>\n",
       "      <td>5.0</td>\n",
       "      <td>NaN</td>\n",
       "      <td>3.0</td>\n",
       "      <td>[[], []]</td>\n",
       "      <td>/Restaurant_Review-g187323-d1358776-Reviews-Es...</td>\n",
       "      <td>d1358776</td>\n",
       "      <td>Germany</td>\n",
       "      <td>2950159</td>\n",
       "    </tr>\n",
       "    <tr>\n",
       "      <th>...</th>\n",
       "      <td>...</td>\n",
       "      <td>...</td>\n",
       "      <td>...</td>\n",
       "      <td>...</td>\n",
       "      <td>...</td>\n",
       "      <td>...</td>\n",
       "      <td>...</td>\n",
       "      <td>...</td>\n",
       "      <td>...</td>\n",
       "      <td>...</td>\n",
       "      <td>...</td>\n",
       "      <td>...</td>\n",
       "    </tr>\n",
       "    <tr>\n",
       "      <th>60111</th>\n",
       "      <td>id_499</td>\n",
       "      <td>Milan</td>\n",
       "      <td>['Italian', 'Vegetarian Friendly', 'Vegan Opti...</td>\n",
       "      <td>500.0</td>\n",
       "      <td>4.5</td>\n",
       "      <td>$$ - $$$</td>\n",
       "      <td>79.0</td>\n",
       "      <td>[['The real Italian experience!', 'Wonderful f...</td>\n",
       "      <td>/Restaurant_Review-g187849-d2104414-Reviews-Ro...</td>\n",
       "      <td>d2104414</td>\n",
       "      <td>Italy</td>\n",
       "      <td>3173435</td>\n",
       "    </tr>\n",
       "    <tr>\n",
       "      <th>60112</th>\n",
       "      <td>id_6340</td>\n",
       "      <td>Paris</td>\n",
       "      <td>['French', 'American', 'Bar', 'European', 'Veg...</td>\n",
       "      <td>6341.0</td>\n",
       "      <td>3.5</td>\n",
       "      <td>$$ - $$$</td>\n",
       "      <td>542.0</td>\n",
       "      <td>[['Parisian atmosphere', 'Bit pricey but inter...</td>\n",
       "      <td>/Restaurant_Review-g187147-d1800036-Reviews-La...</td>\n",
       "      <td>d1800036</td>\n",
       "      <td>France</td>\n",
       "      <td>2988507</td>\n",
       "    </tr>\n",
       "    <tr>\n",
       "      <th>60113</th>\n",
       "      <td>id_1649</td>\n",
       "      <td>Stockholm</td>\n",
       "      <td>['Japanese', 'Sushi']</td>\n",
       "      <td>1652.0</td>\n",
       "      <td>4.5</td>\n",
       "      <td>NaN</td>\n",
       "      <td>4.0</td>\n",
       "      <td>[['Good by swedish standards', 'A hidden jewel...</td>\n",
       "      <td>/Restaurant_Review-g189852-d947615-Reviews-Sus...</td>\n",
       "      <td>d947615</td>\n",
       "      <td>Sweden</td>\n",
       "      <td>2673730</td>\n",
       "    </tr>\n",
       "    <tr>\n",
       "      <th>60114</th>\n",
       "      <td>id_640</td>\n",
       "      <td>Warsaw</td>\n",
       "      <td>['Polish', 'European', 'Eastern European', 'Ce...</td>\n",
       "      <td>641.0</td>\n",
       "      <td>4.0</td>\n",
       "      <td>$$ - $$$</td>\n",
       "      <td>70.0</td>\n",
       "      <td>[['Underground restaurant', 'Oldest Restaurant...</td>\n",
       "      <td>/Restaurant_Review-g274856-d1100838-Reviews-Ho...</td>\n",
       "      <td>d1100838</td>\n",
       "      <td>Poland</td>\n",
       "      <td>756135</td>\n",
       "    </tr>\n",
       "    <tr>\n",
       "      <th>60115</th>\n",
       "      <td>id_4824</td>\n",
       "      <td>Milan</td>\n",
       "      <td>['Spanish']</td>\n",
       "      <td>4827.0</td>\n",
       "      <td>3.0</td>\n",
       "      <td>$$ - $$$</td>\n",
       "      <td>260.0</td>\n",
       "      <td>[['Average', 'Nice an informal'], ['01/31/2016...</td>\n",
       "      <td>/Restaurant_Review-g187849-d1109020-Reviews-Ta...</td>\n",
       "      <td>d1109020</td>\n",
       "      <td>Italy</td>\n",
       "      <td>3173435</td>\n",
       "    </tr>\n",
       "  </tbody>\n",
       "</table>\n",
       "<p>60116 rows × 12 columns</p>\n",
       "</div>"
      ],
      "text/plain": [
       "      Restaurant_id       City  \\\n",
       "0           id_5569      Paris   \n",
       "1           id_1535  Stockholm   \n",
       "2            id_352     London   \n",
       "3            id_352     London   \n",
       "4           id_3456     Berlin   \n",
       "...             ...        ...   \n",
       "60111        id_499      Milan   \n",
       "60112       id_6340      Paris   \n",
       "60113       id_1649  Stockholm   \n",
       "60114        id_640     Warsaw   \n",
       "60115       id_4824      Milan   \n",
       "\n",
       "                                           Cuisine Style  Ranking  Rating  \\\n",
       "0                ['European', 'French', 'International']   5570.0     3.5   \n",
       "1                                                    NaN   1537.0     4.0   \n",
       "2      ['Japanese', 'Sushi', 'Asian', 'Grill', 'Veget...    353.0     4.5   \n",
       "3      ['Japanese', 'Sushi', 'Asian', 'Grill', 'Veget...    353.0     4.5   \n",
       "4                                                    NaN   3458.0     5.0   \n",
       "...                                                  ...      ...     ...   \n",
       "60111  ['Italian', 'Vegetarian Friendly', 'Vegan Opti...    500.0     4.5   \n",
       "60112  ['French', 'American', 'Bar', 'European', 'Veg...   6341.0     3.5   \n",
       "60113                              ['Japanese', 'Sushi']   1652.0     4.5   \n",
       "60114  ['Polish', 'European', 'Eastern European', 'Ce...    641.0     4.0   \n",
       "60115                                        ['Spanish']   4827.0     3.0   \n",
       "\n",
       "      Price Range  Number of Reviews  \\\n",
       "0        $$ - $$$              194.0   \n",
       "1             NaN               10.0   \n",
       "2            $$$$              688.0   \n",
       "3            $$$$              688.0   \n",
       "4             NaN                3.0   \n",
       "...           ...                ...   \n",
       "60111    $$ - $$$               79.0   \n",
       "60112    $$ - $$$              542.0   \n",
       "60113         NaN                4.0   \n",
       "60114    $$ - $$$               70.0   \n",
       "60115    $$ - $$$              260.0   \n",
       "\n",
       "                                                 Reviews  \\\n",
       "0      [['Good food at your doorstep', 'A good hotel ...   \n",
       "1      [['Unique cuisine', 'Delicious Nepalese food']...   \n",
       "2      [['Catch up with friends', 'Not exceptional'],...   \n",
       "3      [['Catch up with friends', 'Not exceptional'],...   \n",
       "4                                               [[], []]   \n",
       "...                                                  ...   \n",
       "60111  [['The real Italian experience!', 'Wonderful f...   \n",
       "60112  [['Parisian atmosphere', 'Bit pricey but inter...   \n",
       "60113  [['Good by swedish standards', 'A hidden jewel...   \n",
       "60114  [['Underground restaurant', 'Oldest Restaurant...   \n",
       "60115  [['Average', 'Nice an informal'], ['01/31/2016...   \n",
       "\n",
       "                                                  URL_TA     ID_TA  \\\n",
       "0      /Restaurant_Review-g187147-d1912643-Reviews-R_...  d1912643   \n",
       "1      /Restaurant_Review-g189852-d7992032-Reviews-Bu...  d7992032   \n",
       "2      /Restaurant_Review-g186338-d8632781-Reviews-RO...  d8632781   \n",
       "3      /Restaurant_Review-g186338-d8632781-Reviews-RO...  d8632781   \n",
       "4      /Restaurant_Review-g187323-d1358776-Reviews-Es...  d1358776   \n",
       "...                                                  ...       ...   \n",
       "60111  /Restaurant_Review-g187849-d2104414-Reviews-Ro...  d2104414   \n",
       "60112  /Restaurant_Review-g187147-d1800036-Reviews-La...  d1800036   \n",
       "60113  /Restaurant_Review-g189852-d947615-Reviews-Sus...   d947615   \n",
       "60114  /Restaurant_Review-g274856-d1100838-Reviews-Ho...  d1100838   \n",
       "60115  /Restaurant_Review-g187849-d1109020-Reviews-Ta...  d1109020   \n",
       "\n",
       "              country  geonameid  \n",
       "0              France    2988507  \n",
       "1              Sweden    2673730  \n",
       "2              Canada    6058560  \n",
       "3      United Kingdom    2643743  \n",
       "4             Germany    2950159  \n",
       "...               ...        ...  \n",
       "60111           Italy    3173435  \n",
       "60112          France    2988507  \n",
       "60113          Sweden    2673730  \n",
       "60114          Poland     756135  \n",
       "60115           Italy    3173435  \n",
       "\n",
       "[60116 rows x 12 columns]"
      ]
     },
     "execution_count": 2915,
     "metadata": {},
     "output_type": "execute_result"
    }
   ],
   "source": [
    "df"
   ]
  },
  {
   "cell_type": "markdown",
   "metadata": {},
   "source": [
    "### Посмотрим, какие значения содержат  `столбцы`"
   ]
  },
  {
   "cell_type": "markdown",
   "metadata": {},
   "source": [
    "1. ``Restaurant_id``"
   ]
  },
  {
   "cell_type": "code",
   "execution_count": 2916,
   "metadata": {
    "scrolled": true
   },
   "outputs": [
    {
     "data": {
      "text/plain": [
       "11909"
      ]
     },
     "execution_count": 2916,
     "metadata": {},
     "output_type": "execute_result"
    }
   ],
   "source": [
    "df['Restaurant_id'].nunique()"
   ]
  },
  {
   "cell_type": "code",
   "execution_count": 2917,
   "metadata": {},
   "outputs": [
    {
     "data": {
      "image/png": "[encoded data removed]",
      "text/plain": [
       "<Figure size 1008x288 with 1 Axes>"
      ]
     },
     "metadata": {
      "needs_background": "light"
     },
     "output_type": "display_data"
    }
   ],
   "source": [
    "for col in ['Restaurant_id']:\n",
    "    get_boxplot(col)"
   ]
  },
  {
   "cell_type": "code",
   "execution_count": 2918,
   "metadata": {},
   "outputs": [],
   "source": [
    "# Удалим нечисловые знаки\n",
    "df['Restaurant_id'] = df['Restaurant_id'].str.replace(r'\\D','')"
   ]
  },
  {
   "cell_type": "code",
   "execution_count": 2919,
   "metadata": {},
   "outputs": [],
   "source": [
    "# Преобразуем в числовой вид\n",
    "\n",
    "df['Restaurant_id'] = pd.to_numeric(df['Restaurant_id'])"
   ]
  },
  {
   "cell_type": "markdown",
   "metadata": {},
   "source": [
    "2. ``City``"
   ]
  },
  {
   "cell_type": "code",
   "execution_count": 2920,
   "metadata": {
    "scrolled": true
   },
   "outputs": [
    {
     "data": {
      "text/plain": [
       "31"
      ]
     },
     "execution_count": 2920,
     "metadata": {},
     "output_type": "execute_result"
    }
   ],
   "source": [
    "df['City'].nunique()"
   ]
  },
  {
   "cell_type": "code",
   "execution_count": 2921,
   "metadata": {
    "scrolled": true
   },
   "outputs": [
    {
     "data": {
      "image/png": "[encoded data removed]",
      "text/plain": [
       "<Figure size 1008x288 with 1 Axes>"
      ]
     },
     "metadata": {
      "needs_background": "light"
     },
     "output_type": "display_data"
    }
   ],
   "source": [
    "for col in ['City']:\n",
    "    get_boxplot(col)"
   ]
  },
  {
   "cell_type": "markdown",
   "metadata": {},
   "source": [
    "3. ``Cuisine Style``"
   ]
  },
  {
   "cell_type": "code",
   "execution_count": 2922,
   "metadata": {},
   "outputs": [],
   "source": [
    "# удалим лишние знаки\n",
    "\n",
    "df['Cuisine Style'] = df['Cuisine Style'].str.replace(r\"['\\[\\]\\ ]\",'')"
   ]
  },
  {
   "cell_type": "code",
   "execution_count": 2923,
   "metadata": {},
   "outputs": [],
   "source": [
    "# заполним пустые ячейки значением other\n",
    "\n",
    "df['Cuisine Style'] = df['Cuisine Style'].fillna('other')"
   ]
  },
  {
   "cell_type": "code",
   "execution_count": 2924,
   "metadata": {},
   "outputs": [],
   "source": [
    "# разобьем строки\n",
    "\n",
    "df['Cuisine Style'] = df['Cuisine Style'].str.split(',')"
   ]
  },
  {
   "cell_type": "code",
   "execution_count": 2925,
   "metadata": {},
   "outputs": [],
   "source": [
    "# преобразуем датафрейм в словарь\n",
    "\n",
    "dictionary = df.to_dict('records')"
   ]
  },
  {
   "cell_type": "code",
   "execution_count": 2926,
   "metadata": {},
   "outputs": [],
   "source": [
    "# создадим список уникальных названий кухонь\n",
    "\n",
    "kitchens = set()\n",
    "for i in dictionary:\n",
    "    for j in i['Cuisine Style']:\n",
    "        kitchens.add(j)"
   ]
  },
  {
   "cell_type": "code",
   "execution_count": 2927,
   "metadata": {},
   "outputs": [],
   "source": [
    "# создадим столбцы для каждого вида кухни\n",
    "\n",
    "for item in kitchens:\n",
    "    df[item] = df['Cuisine Style'].apply(find_item)\n",
    "    "
   ]
  },
  {
   "cell_type": "code",
   "execution_count": 2928,
   "metadata": {},
   "outputs": [],
   "source": [
    "# заменим значение на кол-во кухонь\n",
    "\n",
    "df['Cuisine Style'] = df['Cuisine Style'].apply(lambda x: len(x))"
   ]
  },
  {
   "cell_type": "markdown",
   "metadata": {},
   "source": [
    "4. ``Ranking``"
   ]
  },
  {
   "cell_type": "code",
   "execution_count": 2929,
   "metadata": {
    "scrolled": true
   },
   "outputs": [
    {
     "data": {
      "text/plain": [
       "228.0      26\n",
       "491.0      26\n",
       "80.0       26\n",
       "437.0      25\n",
       "590.0      25\n",
       "           ..\n",
       "9893.0      1\n",
       "10593.0     1\n",
       "11141.0     1\n",
       "12624.0     1\n",
       "3146.0      1\n",
       "Name: Ranking, Length: 11936, dtype: int64"
      ]
     },
     "execution_count": 2929,
     "metadata": {},
     "output_type": "execute_result"
    }
   ],
   "source": [
    "df['Ranking'].value_counts()"
   ]
  },
  {
   "cell_type": "markdown",
   "metadata": {},
   "source": [
    "5. ``Rating``"
   ]
  },
  {
   "cell_type": "code",
   "execution_count": 2930,
   "metadata": {},
   "outputs": [
    {
     "data": {
      "text/plain": [
       "4.0    20693\n",
       "4.5    16611\n",
       "3.5    10162\n",
       "5.0     5948\n",
       "3.0     4235\n",
       "2.5     1305\n",
       "2.0      650\n",
       "1.0      298\n",
       "1.5      214\n",
       "Name: Rating, dtype: int64"
      ]
     },
     "execution_count": 2930,
     "metadata": {},
     "output_type": "execute_result"
    }
   ],
   "source": [
    "df['Rating'].value_counts()"
   ]
  },
  {
   "cell_type": "markdown",
   "metadata": {},
   "source": [
    "6. ``Price Range``"
   ]
  },
  {
   "cell_type": "code",
   "execution_count": 2931,
   "metadata": {
    "scrolled": true
   },
   "outputs": [
    {
     "data": {
      "text/plain": [
       "$$ - $$$    28207\n",
       "$           10027\n",
       "$$$$         2081\n",
       "Name: Price Range, dtype: int64"
      ]
     },
     "execution_count": 2931,
     "metadata": {},
     "output_type": "execute_result"
    }
   ],
   "source": [
    "df['Price Range'].value_counts()"
   ]
  },
  {
   "cell_type": "code",
   "execution_count": 2932,
   "metadata": {},
   "outputs": [],
   "source": [
    "# переименуем значения\n",
    "\n",
    "df['Price Range'] = df['Price Range'].replace('$$ - $$$','median')\n",
    "df['Price Range'] = df['Price Range'].replace('$','low')\n",
    "df['Price Range'] = df['Price Range'].replace('$$$$','high')"
   ]
  },
  {
   "cell_type": "code",
   "execution_count": 2933,
   "metadata": {},
   "outputs": [],
   "source": [
    "#заменим отсутствующее значение\n",
    "\n",
    "df['Price Range'] = df['Price Range'].fillna('unknown')"
   ]
  },
  {
   "cell_type": "code",
   "execution_count": 2934,
   "metadata": {
    "scrolled": true
   },
   "outputs": [
    {
     "data": {
      "text/plain": [
       "median     28207\n",
       "unknown    19801\n",
       "low        10027\n",
       "high        2081\n",
       "Name: Price Range, dtype: int64"
      ]
     },
     "execution_count": 2934,
     "metadata": {},
     "output_type": "execute_result"
    }
   ],
   "source": [
    "df['Price Range'].value_counts()"
   ]
  },
  {
   "cell_type": "code",
   "execution_count": 2935,
   "metadata": {
    "scrolled": true
   },
   "outputs": [
    {
     "data": {
      "image/png": "[encoded data removed]",
      "text/plain": [
       "<Figure size 1008x288 with 1 Axes>"
      ]
     },
     "metadata": {
      "needs_background": "light"
     },
     "output_type": "display_data"
    }
   ],
   "source": [
    "for col in ['Price Range']:\n",
    "    get_boxplot(col)"
   ]
  },
  {
   "cell_type": "markdown",
   "metadata": {},
   "source": [
    "7. ``Number of Reviews``"
   ]
  },
  {
   "cell_type": "code",
   "execution_count": 2936,
   "metadata": {
    "scrolled": false
   },
   "outputs": [
    {
     "data": {
      "text/plain": [
       "2.0       2731\n",
       "3.0       2309\n",
       "4.0       1965\n",
       "5.0       1756\n",
       "6.0       1440\n",
       "          ... \n",
       "2043.0       1\n",
       "2140.0       1\n",
       "1026.0       1\n",
       "1123.0       1\n",
       "952.0        1\n",
       "Name: Number of Reviews, Length: 1459, dtype: int64"
      ]
     },
     "execution_count": 2936,
     "metadata": {},
     "output_type": "execute_result"
    }
   ],
   "source": [
    "df['Number of Reviews'].value_counts()"
   ]
  },
  {
   "cell_type": "code",
   "execution_count": 2937,
   "metadata": {},
   "outputs": [],
   "source": [
    "# Заполним пропущенные значения в Number of Reviews средними значениями\n",
    "\n",
    "df['Number of Reviews'] = df['Number of Reviews'].fillna(df['Number of Reviews'].mean())"
   ]
  },
  {
   "cell_type": "code",
   "execution_count": 2938,
   "metadata": {},
   "outputs": [],
   "source": [
    "# добавим показатель рейтинга на 1 отзыв\n",
    "\n",
    "df['rating_per_one_review'] = df['Rating'] / df['Number of Reviews']"
   ]
  },
  {
   "cell_type": "code",
   "execution_count": 2939,
   "metadata": {},
   "outputs": [],
   "source": [
    "# добавим кол-во отзывов на 1го жителя\n",
    "\n",
    "df['reviews_per_citizen'] = df['geonameid'] / df['Number of Reviews']"
   ]
  },
  {
   "cell_type": "code",
   "execution_count": 2940,
   "metadata": {},
   "outputs": [],
   "source": [
    "df.drop(['geonameid'], axis='columns', inplace=True)"
   ]
  },
  {
   "cell_type": "code",
   "execution_count": 2941,
   "metadata": {},
   "outputs": [],
   "source": [
    "df.drop(['country'], axis='columns', inplace=True)"
   ]
  },
  {
   "cell_type": "markdown",
   "metadata": {},
   "source": [
    "8. ``Reviews``"
   ]
  },
  {
   "cell_type": "code",
   "execution_count": 2942,
   "metadata": {},
   "outputs": [],
   "source": [
    "# создадим новые столбцы с датами отзывов\n",
    "\n",
    "df['older_review'] = df['Reviews'].str.extract(r'(\\d{2}/\\d{2}/\\d{4})')\n",
    "df['earlier_review'] = df['Reviews'].str.extract(r'(\\,\\ \\'\\d{2}/\\d{2}/\\d{4})')"
   ]
  },
  {
   "cell_type": "code",
   "execution_count": 2943,
   "metadata": {},
   "outputs": [],
   "source": [
    "# удалим лишние символы из столбца\n",
    "\n",
    "df['earlier_review'] = df['earlier_review'].str.replace(r'\\,\\ \\'','')"
   ]
  },
  {
   "cell_type": "code",
   "execution_count": 2944,
   "metadata": {},
   "outputs": [],
   "source": [
    "# заполним пустые ячейки значением nan\n",
    "\n",
    "df[['older_review', 'earlier_review']] = df[['older_review', 'earlier_review']].fillna(-1)"
   ]
  },
  {
   "cell_type": "code",
   "execution_count": 2945,
   "metadata": {},
   "outputs": [],
   "source": [
    "# преобразуем в unixtime\n",
    "\n",
    "df['older_review'] = pd.to_datetime(df['older_review']).astype('int64')\n",
    "df['earlier_review'] = pd.to_datetime(df['earlier_review']).astype('int64')"
   ]
  },
  {
   "cell_type": "code",
   "execution_count": 2946,
   "metadata": {},
   "outputs": [],
   "source": [
    "# создадим новый столбец с разницей между более новыми и старыми отзывами\n",
    "\n",
    "df['time_between_review'] = df['older_review'] - df['earlier_review']"
   ]
  },
  {
   "cell_type": "markdown",
   "metadata": {},
   "source": [
    "9. ``URL_TA``"
   ]
  },
  {
   "cell_type": "code",
   "execution_count": 2947,
   "metadata": {},
   "outputs": [],
   "source": [
    "# Удалим нечисловые знаки из строк\n",
    "\n",
    "df['ID_TA'] = df['ID_TA'].str.replace(r'\\D','')"
   ]
  },
  {
   "cell_type": "code",
   "execution_count": 2948,
   "metadata": {},
   "outputs": [],
   "source": [
    "# приведем значения к int\n",
    "df['ID_TA'] = pd.to_numeric(df['ID_TA'])"
   ]
  },
  {
   "cell_type": "markdown",
   "metadata": {},
   "source": [
    "9. ``ID_TA``"
   ]
  },
  {
   "cell_type": "code",
   "execution_count": 2949,
   "metadata": {},
   "outputs": [
    {
     "data": {
      "text/plain": [
       "39980"
      ]
     },
     "execution_count": 2949,
     "metadata": {},
     "output_type": "execute_result"
    }
   ],
   "source": [
    "df['ID_TA'].nunique()"
   ]
  },
  {
   "cell_type": "code",
   "execution_count": 2950,
   "metadata": {},
   "outputs": [],
   "source": [
    "# Столбцы `URL_TA`, `ID_TA` фактически дублируют друг-друга, \n",
    "#так как содержат различные типы идентификаторов ресторана. Удалим один из них\n",
    "\n",
    "df.drop(['URL_TA'], axis='columns', inplace=True)"
   ]
  },
  {
   "cell_type": "code",
   "execution_count": 2951,
   "metadata": {},
   "outputs": [],
   "source": [
    "df.drop(['Reviews'], axis='columns', inplace=True)"
   ]
  },
  {
   "cell_type": "markdown",
   "metadata": {},
   "source": [
    "### Пропущенные значения"
   ]
  },
  {
   "cell_type": "code",
   "execution_count": 2952,
   "metadata": {
    "scrolled": false
   },
   "outputs": [
    {
     "name": "stdout",
     "output_type": "stream",
     "text": [
      "В таблице 139 столбцов.\n",
      "из них 0 столбца имеют пропущенные значения.\n"
     ]
    },
    {
     "data": {
      "text/html": [
       "<div>\n",
       "<style scoped>\n",
       "    .dataframe tbody tr th:only-of-type {\n",
       "        vertical-align: middle;\n",
       "    }\n",
       "\n",
       "    .dataframe tbody tr th {\n",
       "        vertical-align: top;\n",
       "    }\n",
       "\n",
       "    .dataframe thead th {\n",
       "        text-align: right;\n",
       "    }\n",
       "</style>\n",
       "<table border=\"1\" class=\"dataframe\">\n",
       "  <thead>\n",
       "    <tr style=\"text-align: right;\">\n",
       "      <th></th>\n",
       "      <th>Missing Values</th>\n",
       "      <th>% of Total Values</th>\n",
       "    </tr>\n",
       "  </thead>\n",
       "  <tbody>\n",
       "  </tbody>\n",
       "</table>\n",
       "</div>"
      ],
      "text/plain": [
       "Empty DataFrame\n",
       "Columns: [Missing Values, % of Total Values]\n",
       "Index: []"
      ]
     },
     "execution_count": 2952,
     "metadata": {},
     "output_type": "execute_result"
    }
   ],
   "source": [
    "# Проверим кол-во пропущенных значений\n",
    "missing_values(df)"
   ]
  },
  {
   "cell_type": "code",
   "execution_count": 2953,
   "metadata": {
    "scrolled": false
   },
   "outputs": [
    {
     "data": {
      "text/html": [
       "<div>\n",
       "<style scoped>\n",
       "    .dataframe tbody tr th:only-of-type {\n",
       "        vertical-align: middle;\n",
       "    }\n",
       "\n",
       "    .dataframe tbody tr th {\n",
       "        vertical-align: top;\n",
       "    }\n",
       "\n",
       "    .dataframe thead th {\n",
       "        text-align: right;\n",
       "    }\n",
       "</style>\n",
       "<table border=\"1\" class=\"dataframe\">\n",
       "  <thead>\n",
       "    <tr style=\"text-align: right;\">\n",
       "      <th></th>\n",
       "      <th>Restaurant_id</th>\n",
       "      <th>Cuisine Style</th>\n",
       "      <th>Ranking</th>\n",
       "      <th>Rating</th>\n",
       "      <th>Number of Reviews</th>\n",
       "      <th>ID_TA</th>\n",
       "      <th>Bangladeshi</th>\n",
       "      <th>Japanese</th>\n",
       "      <th>Czech</th>\n",
       "      <th>African</th>\n",
       "      <th>...</th>\n",
       "      <th>Argentinean</th>\n",
       "      <th>Filipino</th>\n",
       "      <th>Norwegian</th>\n",
       "      <th>Latvian</th>\n",
       "      <th>Seafood</th>\n",
       "      <th>rating_per_one_review</th>\n",
       "      <th>reviews_per_citizen</th>\n",
       "      <th>older_review</th>\n",
       "      <th>earlier_review</th>\n",
       "      <th>time_between_review</th>\n",
       "    </tr>\n",
       "  </thead>\n",
       "  <tbody>\n",
       "    <tr>\n",
       "      <th>Restaurant_id</th>\n",
       "      <td>1.000000</td>\n",
       "      <td>-0.335190</td>\n",
       "      <td>1.000000</td>\n",
       "      <td>-0.382944</td>\n",
       "      <td>-0.232629</td>\n",
       "      <td>0.059536</td>\n",
       "      <td>0.041915</td>\n",
       "      <td>-0.000670</td>\n",
       "      <td>-0.052887</td>\n",
       "      <td>0.004593</td>\n",
       "      <td>...</td>\n",
       "      <td>-0.027045</td>\n",
       "      <td>-0.007879</td>\n",
       "      <td>-0.030306</td>\n",
       "      <td>-0.002986</td>\n",
       "      <td>-0.079058</td>\n",
       "      <td>0.186907</td>\n",
       "      <td>0.302518</td>\n",
       "      <td>-0.098759</td>\n",
       "      <td>-0.140694</td>\n",
       "      <td>0.085859</td>\n",
       "    </tr>\n",
       "    <tr>\n",
       "      <th>Cuisine Style</th>\n",
       "      <td>-0.335190</td>\n",
       "      <td>1.000000</td>\n",
       "      <td>-0.335145</td>\n",
       "      <td>0.121314</td>\n",
       "      <td>0.387928</td>\n",
       "      <td>-0.224537</td>\n",
       "      <td>0.068875</td>\n",
       "      <td>0.105675</td>\n",
       "      <td>0.060444</td>\n",
       "      <td>0.016965</td>\n",
       "      <td>...</td>\n",
       "      <td>0.051525</td>\n",
       "      <td>0.012776</td>\n",
       "      <td>0.036316</td>\n",
       "      <td>0.007262</td>\n",
       "      <td>0.190833</td>\n",
       "      <td>-0.358998</td>\n",
       "      <td>-0.348439</td>\n",
       "      <td>0.306446</td>\n",
       "      <td>0.410050</td>\n",
       "      <td>-0.227903</td>\n",
       "    </tr>\n",
       "    <tr>\n",
       "      <th>Ranking</th>\n",
       "      <td>1.000000</td>\n",
       "      <td>-0.335145</td>\n",
       "      <td>1.000000</td>\n",
       "      <td>-0.382983</td>\n",
       "      <td>-0.232649</td>\n",
       "      <td>0.059533</td>\n",
       "      <td>0.041942</td>\n",
       "      <td>-0.000682</td>\n",
       "      <td>-0.052834</td>\n",
       "      <td>0.004592</td>\n",
       "      <td>...</td>\n",
       "      <td>-0.027048</td>\n",
       "      <td>-0.007883</td>\n",
       "      <td>-0.030309</td>\n",
       "      <td>-0.002987</td>\n",
       "      <td>-0.079077</td>\n",
       "      <td>0.186917</td>\n",
       "      <td>0.302562</td>\n",
       "      <td>-0.098646</td>\n",
       "      <td>-0.140578</td>\n",
       "      <td>0.085826</td>\n",
       "    </tr>\n",
       "    <tr>\n",
       "      <th>Rating</th>\n",
       "      <td>-0.382944</td>\n",
       "      <td>0.121314</td>\n",
       "      <td>-0.382983</td>\n",
       "      <td>1.000000</td>\n",
       "      <td>0.029034</td>\n",
       "      <td>0.160260</td>\n",
       "      <td>-0.001085</td>\n",
       "      <td>-0.013981</td>\n",
       "      <td>-0.003407</td>\n",
       "      <td>0.017568</td>\n",
       "      <td>...</td>\n",
       "      <td>0.013103</td>\n",
       "      <td>0.008827</td>\n",
       "      <td>0.001849</td>\n",
       "      <td>0.006125</td>\n",
       "      <td>0.016316</td>\n",
       "      <td>0.165080</td>\n",
       "      <td>0.010507</td>\n",
       "      <td>0.021204</td>\n",
       "      <td>0.009048</td>\n",
       "      <td>0.012296</td>\n",
       "    </tr>\n",
       "    <tr>\n",
       "      <th>Number of Reviews</th>\n",
       "      <td>-0.232629</td>\n",
       "      <td>0.387928</td>\n",
       "      <td>-0.232649</td>\n",
       "      <td>0.029034</td>\n",
       "      <td>1.000000</td>\n",
       "      <td>-0.281778</td>\n",
       "      <td>-0.000160</td>\n",
       "      <td>-0.000155</td>\n",
       "      <td>0.013626</td>\n",
       "      <td>-0.007929</td>\n",
       "      <td>...</td>\n",
       "      <td>0.025069</td>\n",
       "      <td>-0.002885</td>\n",
       "      <td>-0.000038</td>\n",
       "      <td>-0.001739</td>\n",
       "      <td>0.122573</td>\n",
       "      <td>-0.253726</td>\n",
       "      <td>-0.241053</td>\n",
       "      <td>0.138560</td>\n",
       "      <td>0.186151</td>\n",
       "      <td>-0.104131</td>\n",
       "    </tr>\n",
       "    <tr>\n",
       "      <th>...</th>\n",
       "      <td>...</td>\n",
       "      <td>...</td>\n",
       "      <td>...</td>\n",
       "      <td>...</td>\n",
       "      <td>...</td>\n",
       "      <td>...</td>\n",
       "      <td>...</td>\n",
       "      <td>...</td>\n",
       "      <td>...</td>\n",
       "      <td>...</td>\n",
       "      <td>...</td>\n",
       "      <td>...</td>\n",
       "      <td>...</td>\n",
       "      <td>...</td>\n",
       "      <td>...</td>\n",
       "      <td>...</td>\n",
       "      <td>...</td>\n",
       "      <td>...</td>\n",
       "      <td>...</td>\n",
       "      <td>...</td>\n",
       "      <td>...</td>\n",
       "    </tr>\n",
       "    <tr>\n",
       "      <th>rating_per_one_review</th>\n",
       "      <td>0.186907</td>\n",
       "      <td>-0.358998</td>\n",
       "      <td>0.186917</td>\n",
       "      <td>0.165080</td>\n",
       "      <td>-0.253726</td>\n",
       "      <td>0.323697</td>\n",
       "      <td>-0.007950</td>\n",
       "      <td>-0.040983</td>\n",
       "      <td>-0.002540</td>\n",
       "      <td>-0.002111</td>\n",
       "      <td>...</td>\n",
       "      <td>-0.022191</td>\n",
       "      <td>-0.002718</td>\n",
       "      <td>-0.005754</td>\n",
       "      <td>0.005434</td>\n",
       "      <td>-0.084999</td>\n",
       "      <td>1.000000</td>\n",
       "      <td>0.886864</td>\n",
       "      <td>-0.271933</td>\n",
       "      <td>-0.349964</td>\n",
       "      <td>0.182042</td>\n",
       "    </tr>\n",
       "    <tr>\n",
       "      <th>reviews_per_citizen</th>\n",
       "      <td>0.302518</td>\n",
       "      <td>-0.348439</td>\n",
       "      <td>0.302562</td>\n",
       "      <td>0.010507</td>\n",
       "      <td>-0.241053</td>\n",
       "      <td>0.286099</td>\n",
       "      <td>0.000223</td>\n",
       "      <td>-0.039911</td>\n",
       "      <td>-0.008708</td>\n",
       "      <td>-0.004063</td>\n",
       "      <td>...</td>\n",
       "      <td>-0.022002</td>\n",
       "      <td>-0.003456</td>\n",
       "      <td>-0.006812</td>\n",
       "      <td>0.003067</td>\n",
       "      <td>-0.077197</td>\n",
       "      <td>0.886864</td>\n",
       "      <td>1.000000</td>\n",
       "      <td>-0.232680</td>\n",
       "      <td>-0.292056</td>\n",
       "      <td>0.145030</td>\n",
       "    </tr>\n",
       "    <tr>\n",
       "      <th>older_review</th>\n",
       "      <td>-0.098759</td>\n",
       "      <td>0.306446</td>\n",
       "      <td>-0.098646</td>\n",
       "      <td>0.021204</td>\n",
       "      <td>0.138560</td>\n",
       "      <td>-0.236806</td>\n",
       "      <td>0.018761</td>\n",
       "      <td>0.026762</td>\n",
       "      <td>0.009952</td>\n",
       "      <td>0.008906</td>\n",
       "      <td>...</td>\n",
       "      <td>0.010832</td>\n",
       "      <td>0.003179</td>\n",
       "      <td>0.013630</td>\n",
       "      <td>0.001695</td>\n",
       "      <td>0.058520</td>\n",
       "      <td>-0.271933</td>\n",
       "      <td>-0.232680</td>\n",
       "      <td>1.000000</td>\n",
       "      <td>0.731336</td>\n",
       "      <td>0.137489</td>\n",
       "    </tr>\n",
       "    <tr>\n",
       "      <th>earlier_review</th>\n",
       "      <td>-0.140694</td>\n",
       "      <td>0.410050</td>\n",
       "      <td>-0.140578</td>\n",
       "      <td>0.009048</td>\n",
       "      <td>0.186151</td>\n",
       "      <td>-0.306389</td>\n",
       "      <td>0.024240</td>\n",
       "      <td>0.034139</td>\n",
       "      <td>0.012351</td>\n",
       "      <td>0.008918</td>\n",
       "      <td>...</td>\n",
       "      <td>0.017004</td>\n",
       "      <td>0.003009</td>\n",
       "      <td>0.015960</td>\n",
       "      <td>0.002500</td>\n",
       "      <td>0.077607</td>\n",
       "      <td>-0.349964</td>\n",
       "      <td>-0.292056</td>\n",
       "      <td>0.731336</td>\n",
       "      <td>1.000000</td>\n",
       "      <td>-0.574990</td>\n",
       "    </tr>\n",
       "    <tr>\n",
       "      <th>time_between_review</th>\n",
       "      <td>0.085859</td>\n",
       "      <td>-0.227903</td>\n",
       "      <td>0.085826</td>\n",
       "      <td>0.012296</td>\n",
       "      <td>-0.104131</td>\n",
       "      <td>0.160896</td>\n",
       "      <td>-0.012698</td>\n",
       "      <td>-0.017476</td>\n",
       "      <td>-0.005999</td>\n",
       "      <td>-0.002268</td>\n",
       "      <td>...</td>\n",
       "      <td>-0.011701</td>\n",
       "      <td>-0.000557</td>\n",
       "      <td>-0.006829</td>\n",
       "      <td>-0.001596</td>\n",
       "      <td>-0.042509</td>\n",
       "      <td>0.182042</td>\n",
       "      <td>0.145030</td>\n",
       "      <td>0.137489</td>\n",
       "      <td>-0.574990</td>\n",
       "      <td>1.000000</td>\n",
       "    </tr>\n",
       "  </tbody>\n",
       "</table>\n",
       "<p>137 rows × 137 columns</p>\n",
       "</div>"
      ],
      "text/plain": [
       "                       Restaurant_id  Cuisine Style   Ranking    Rating  \\\n",
       "Restaurant_id               1.000000      -0.335190  1.000000 -0.382944   \n",
       "Cuisine Style              -0.335190       1.000000 -0.335145  0.121314   \n",
       "Ranking                     1.000000      -0.335145  1.000000 -0.382983   \n",
       "Rating                     -0.382944       0.121314 -0.382983  1.000000   \n",
       "Number of Reviews          -0.232629       0.387928 -0.232649  0.029034   \n",
       "...                              ...            ...       ...       ...   \n",
       "rating_per_one_review       0.186907      -0.358998  0.186917  0.165080   \n",
       "reviews_per_citizen         0.302518      -0.348439  0.302562  0.010507   \n",
       "older_review               -0.098759       0.306446 -0.098646  0.021204   \n",
       "earlier_review             -0.140694       0.410050 -0.140578  0.009048   \n",
       "time_between_review         0.085859      -0.227903  0.085826  0.012296   \n",
       "\n",
       "                       Number of Reviews     ID_TA  Bangladeshi  Japanese  \\\n",
       "Restaurant_id                  -0.232629  0.059536     0.041915 -0.000670   \n",
       "Cuisine Style                   0.387928 -0.224537     0.068875  0.105675   \n",
       "Ranking                        -0.232649  0.059533     0.041942 -0.000682   \n",
       "Rating                          0.029034  0.160260    -0.001085 -0.013981   \n",
       "Number of Reviews               1.000000 -0.281778    -0.000160 -0.000155   \n",
       "...                                  ...       ...          ...       ...   \n",
       "rating_per_one_review          -0.253726  0.323697    -0.007950 -0.040983   \n",
       "reviews_per_citizen            -0.241053  0.286099     0.000223 -0.039911   \n",
       "older_review                    0.138560 -0.236806     0.018761  0.026762   \n",
       "earlier_review                  0.186151 -0.306389     0.024240  0.034139   \n",
       "time_between_review            -0.104131  0.160896    -0.012698 -0.017476   \n",
       "\n",
       "                          Czech   African  ...  Argentinean  Filipino  \\\n",
       "Restaurant_id         -0.052887  0.004593  ...    -0.027045 -0.007879   \n",
       "Cuisine Style          0.060444  0.016965  ...     0.051525  0.012776   \n",
       "Ranking               -0.052834  0.004592  ...    -0.027048 -0.007883   \n",
       "Rating                -0.003407  0.017568  ...     0.013103  0.008827   \n",
       "Number of Reviews      0.013626 -0.007929  ...     0.025069 -0.002885   \n",
       "...                         ...       ...  ...          ...       ...   \n",
       "rating_per_one_review -0.002540 -0.002111  ...    -0.022191 -0.002718   \n",
       "reviews_per_citizen   -0.008708 -0.004063  ...    -0.022002 -0.003456   \n",
       "older_review           0.009952  0.008906  ...     0.010832  0.003179   \n",
       "earlier_review         0.012351  0.008918  ...     0.017004  0.003009   \n",
       "time_between_review   -0.005999 -0.002268  ...    -0.011701 -0.000557   \n",
       "\n",
       "                       Norwegian   Latvian   Seafood  rating_per_one_review  \\\n",
       "Restaurant_id          -0.030306 -0.002986 -0.079058               0.186907   \n",
       "Cuisine Style           0.036316  0.007262  0.190833              -0.358998   \n",
       "Ranking                -0.030309 -0.002987 -0.079077               0.186917   \n",
       "Rating                  0.001849  0.006125  0.016316               0.165080   \n",
       "Number of Reviews      -0.000038 -0.001739  0.122573              -0.253726   \n",
       "...                          ...       ...       ...                    ...   \n",
       "rating_per_one_review  -0.005754  0.005434 -0.084999               1.000000   \n",
       "reviews_per_citizen    -0.006812  0.003067 -0.077197               0.886864   \n",
       "older_review            0.013630  0.001695  0.058520              -0.271933   \n",
       "earlier_review          0.015960  0.002500  0.077607              -0.349964   \n",
       "time_between_review    -0.006829 -0.001596 -0.042509               0.182042   \n",
       "\n",
       "                       reviews_per_citizen  older_review  earlier_review  \\\n",
       "Restaurant_id                     0.302518     -0.098759       -0.140694   \n",
       "Cuisine Style                    -0.348439      0.306446        0.410050   \n",
       "Ranking                           0.302562     -0.098646       -0.140578   \n",
       "Rating                            0.010507      0.021204        0.009048   \n",
       "Number of Reviews                -0.241053      0.138560        0.186151   \n",
       "...                                    ...           ...             ...   \n",
       "rating_per_one_review             0.886864     -0.271933       -0.349964   \n",
       "reviews_per_citizen               1.000000     -0.232680       -0.292056   \n",
       "older_review                     -0.232680      1.000000        0.731336   \n",
       "earlier_review                   -0.292056      0.731336        1.000000   \n",
       "time_between_review               0.145030      0.137489       -0.574990   \n",
       "\n",
       "                       time_between_review  \n",
       "Restaurant_id                     0.085859  \n",
       "Cuisine Style                    -0.227903  \n",
       "Ranking                           0.085826  \n",
       "Rating                            0.012296  \n",
       "Number of Reviews                -0.104131  \n",
       "...                                    ...  \n",
       "rating_per_one_review             0.182042  \n",
       "reviews_per_citizen               0.145030  \n",
       "older_review                      0.137489  \n",
       "earlier_review                   -0.574990  \n",
       "time_between_review               1.000000  \n",
       "\n",
       "[137 rows x 137 columns]"
      ]
     },
     "execution_count": 2953,
     "metadata": {},
     "output_type": "execute_result"
    }
   ],
   "source": [
    "# полная матрица корреляций\n",
    "# используем метод Pandas corr()\n",
    "df.corr(method='pearson')"
   ]
  },
  {
   "cell_type": "markdown",
   "metadata": {},
   "source": [
    "#### Преобразуем значения столбцов `City` и `Price Range` в dummy"
   ]
  },
  {
   "cell_type": "markdown",
   "metadata": {},
   "source": [
    "1. `City`"
   ]
  },
  {
   "cell_type": "code",
   "execution_count": 2954,
   "metadata": {},
   "outputs": [
    {
     "data": {
      "text/plain": [
       "31"
      ]
     },
     "execution_count": 2954,
     "metadata": {},
     "output_type": "execute_result"
    }
   ],
   "source": [
    "df['City'].nunique()"
   ]
  },
  {
   "cell_type": "code",
   "execution_count": 2955,
   "metadata": {},
   "outputs": [],
   "source": [
    "city_dummies = pd.get_dummies(df['City'], drop_first=True)"
   ]
  },
  {
   "cell_type": "code",
   "execution_count": 2956,
   "metadata": {},
   "outputs": [],
   "source": [
    "df = pd.concat([df, city_dummies], axis=1)  "
   ]
  },
  {
   "cell_type": "code",
   "execution_count": 2957,
   "metadata": {},
   "outputs": [],
   "source": [
    "df.drop(['City'], axis='columns', inplace=True)"
   ]
  },
  {
   "cell_type": "markdown",
   "metadata": {},
   "source": [
    "2. `Price Range`"
   ]
  },
  {
   "cell_type": "code",
   "execution_count": 2958,
   "metadata": {},
   "outputs": [
    {
     "data": {
      "text/plain": [
       "median     28207\n",
       "unknown    19801\n",
       "low        10027\n",
       "high        2081\n",
       "Name: Price Range, dtype: int64"
      ]
     },
     "execution_count": 2958,
     "metadata": {},
     "output_type": "execute_result"
    }
   ],
   "source": [
    "df['Price Range'].value_counts()"
   ]
  },
  {
   "cell_type": "code",
   "execution_count": 2959,
   "metadata": {},
   "outputs": [],
   "source": [
    "price_dummies = pd.get_dummies(df['Price Range'], drop_first=False)"
   ]
  },
  {
   "cell_type": "code",
   "execution_count": 2960,
   "metadata": {},
   "outputs": [],
   "source": [
    "df = pd.concat([df, price_dummies], axis=1)  "
   ]
  },
  {
   "cell_type": "code",
   "execution_count": 2961,
   "metadata": {},
   "outputs": [],
   "source": [
    "df.drop(['Price Range'], axis='columns', inplace=True)"
   ]
  },
  {
   "cell_type": "markdown",
   "metadata": {},
   "source": [
    "# Разбиваем датафрейм на части, необходимые для обучения и тестирования модели"
   ]
  },
  {
   "cell_type": "code",
   "execution_count": 2962,
   "metadata": {},
   "outputs": [],
   "source": [
    "# Х - данные с информацией о ресторанах, у - целевая переменная (рейтинги ресторанов)\n",
    "X = df.drop(['Restaurant_id', 'Rating'], axis = 1)\n",
    "y = df['Rating']"
   ]
  },
  {
   "cell_type": "code",
   "execution_count": 2963,
   "metadata": {},
   "outputs": [],
   "source": [
    "# Загружаем специальный инструмент для разбивки:\n",
    "from sklearn.model_selection import train_test_split"
   ]
  },
  {
   "cell_type": "code",
   "execution_count": 2964,
   "metadata": {},
   "outputs": [],
   "source": [
    "# Наборы данных с меткой \"train\" будут использоваться для обучения модели, \"test\" - для тестирования.\n",
    "# Для тестирования мы будем использовать 25% от исходного датасета.\n",
    "X_train, X_test, y_train, y_test = train_test_split(X, y, test_size=0.25)"
   ]
  },
  {
   "cell_type": "markdown",
   "metadata": {},
   "source": [
    "# Создаём, обучаем и тестируем модель"
   ]
  },
  {
   "cell_type": "code",
   "execution_count": 2965,
   "metadata": {},
   "outputs": [],
   "source": [
    "# Импортируем необходимые библиотеки:\n",
    "from sklearn.ensemble import RandomForestRegressor # инструмент для создания и обучения модели\n",
    "from sklearn import metrics # инструменты для оценки точности модели"
   ]
  },
  {
   "cell_type": "code",
   "execution_count": 2966,
   "metadata": {},
   "outputs": [],
   "source": [
    "# Создаём модель\n",
    "regr = RandomForestRegressor(n_estimators=100)\n",
    "\n",
    "# Обучаем модель на тестовом наборе данных\n",
    "regr.fit(X_train, y_train)\n",
    "\n",
    "# Используем обученную модель для предсказания рейтинга ресторанов в тестовой выборке.\n",
    "# Предсказанные значения записываем в переменную y_pred\n",
    "y_pred = regr.predict(X_test)"
   ]
  },
  {
   "cell_type": "code",
   "execution_count": 2967,
   "metadata": {},
   "outputs": [
    {
     "name": "stdout",
     "output_type": "stream",
     "text": [
      "MAE: 0.08486958546809499\n"
     ]
    }
   ],
   "source": [
    "# Сравниваем предсказанные значения (y_pred) с реальными (y_test), и смотрим насколько они в среднем отличаются\n",
    "# Метрика называется Mean Absolute Error (MAE) и показывает среднее отклонение предсказанных значений от фактических.\n",
    "print('MAE:', metrics.mean_absolute_error(y_test, y_pred))"
   ]
  }
 ],
 "metadata": {
  "kernelspec": {
   "display_name": "Python 3",
   "language": "python",
   "name": "python3"
  },
  "language_info": {
   "codemirror_mode": {
    "name": "ipython",
    "version": 3
   },
   "file_extension": ".py",
   "mimetype": "text/x-python",
   "name": "python",
   "nbconvert_exporter": "python",
   "pygments_lexer": "ipython3",
   "version": "3.7.6"
  }
 },
 "nbformat": 4,
 "nbformat_minor": 2
}
